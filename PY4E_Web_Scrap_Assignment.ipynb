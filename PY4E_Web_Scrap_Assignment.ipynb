{
  "nbformat": 4,
  "nbformat_minor": 0,
  "metadata": {
    "colab": {
      "name": "PY4E Web Scrap Assignment.ipynb",
      "provenance": [],
      "collapsed_sections": [],
      "authorship_tag": "ABX9TyN6FnObs4GCJHUAiEh3ak0U",
      "include_colab_link": true
    },
    "kernelspec": {
      "name": "python3",
      "display_name": "Python 3"
    },
    "language_info": {
      "name": "python"
    }
  },
  "cells": [
    {
      "cell_type": "markdown",
      "metadata": {
        "id": "view-in-github",
        "colab_type": "text"
      },
      "source": [
        "<a href=\"https://colab.research.google.com/github/Raniel-Ferreira/PY4E-Assignments/blob/main/PY4E_Web_Scrap_Assignment.ipynb\" target=\"_parent\"><img src=\"https://colab.research.google.com/assets/colab-badge.svg\" alt=\"Open In Colab\"/></a>"
      ]
    },
    {
      "cell_type": "markdown",
      "metadata": {
        "id": "l5KnsrsKwBtN"
      },
      "source": [
        "<div style ='text-align: justify;'> Resposta para o exercício de web scrapping do curso Python For Everybody do professor Charles Severance. <br>\n",
        "My answer to the web scrapping assignment on the Python 4 Everybody Course from professor Charles Severance  </div>"
      ]
    },
    {
      "cell_type": "code",
      "metadata": {
        "colab": {
          "base_uri": "https://localhost:8080/"
        },
        "id": "knxJ6tRXuDdZ",
        "outputId": "01ce37e3-aac6-4d76-af41-20e568593970"
      },
      "source": [
        "import re\n",
        "import urllib\n",
        "from bs4 import BeautifulSoup\n",
        "url = 'http://py4e-data.dr-chuck.net/comments_1154475.html'\n",
        "html = urllib.request.urlopen(url).read()\n",
        "soup = BeautifulSoup(html, \"html.parser\")\n",
        "tags = soup.find_all('span')\n",
        "nums = list()\n",
        "for tag in tags:\n",
        "    num = re.findall('[0-9]+',str(tag))\n",
        "    nums += num\n",
        "numbers = [ int(x) for x in nums ]\n",
        "print(sum(numbers))"
      ],
      "execution_count": null,
      "outputs": [
        {
          "output_type": "stream",
          "text": [
            "2370\n"
          ],
          "name": "stdout"
        }
      ]
    }
  ]
}