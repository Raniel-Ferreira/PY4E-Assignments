{
  "nbformat": 4,
  "nbformat_minor": 0,
  "metadata": {
    "colab": {
      "name": "XMLassign.ipynb",
      "provenance": [],
      "collapsed_sections": [],
      "authorship_tag": "ABX9TyMLLRUImzuT357hb4Bz3Lyq",
      "include_colab_link": true
    },
    "kernelspec": {
      "name": "python3",
      "display_name": "Python 3"
    },
    "language_info": {
      "name": "python"
    }
  },
  "cells": [
    {
      "cell_type": "markdown",
      "metadata": {
        "id": "view-in-github",
        "colab_type": "text"
      },
      "source": [
        "<a href=\"https://colab.research.google.com/github/Raniel-Ferreira/PY4E-Assignments/blob/main/XMLassign.ipynb\" target=\"_parent\"><img src=\"https://colab.research.google.com/assets/colab-badge.svg\" alt=\"Open In Colab\"/></a>"
      ]
    },
    {
      "cell_type": "code",
      "metadata": {
        "colab": {
          "base_uri": "https://localhost:8080/"
        },
        "id": "F4Ug7UwI4Gjw",
        "outputId": "f7039ac9-dae7-48d1-a506-df38447d03bb"
      },
      "source": [
        "import urllib.request, urllib.error\n",
        "import xml.etree.ElementTree as ET\n",
        "\n",
        "url = 'http://py4e-data.dr-chuck.net/comments_1154477.xml'\n",
        "output = urllib.request.urlopen(url).read()\n",
        "tree = ET.fromstring(output)\n",
        "\n",
        "total = 0\n",
        "for comments in tree.findall('comments'):\n",
        "    for comment in comments.findall('comment'):\n",
        "        total += int(comment.find('count').text)\n",
        "\n",
        "print(total)"
      ],
      "execution_count": 8,
      "outputs": [
        {
          "output_type": "stream",
          "text": [
            "2273\n"
          ],
          "name": "stdout"
        }
      ]
    }
  ]
}