{
  "nbformat": 4,
  "nbformat_minor": 0,
  "metadata": {
    "colab": {
      "name": "Python following links.ipynb",
      "provenance": [],
      "collapsed_sections": [],
      "authorship_tag": "ABX9TyP9EluYScQ5wPiP/5+fuyqO",
      "include_colab_link": true
    },
    "kernelspec": {
      "name": "python3",
      "display_name": "Python 3"
    },
    "language_info": {
      "name": "python"
    }
  },
  "cells": [
    {
      "cell_type": "markdown",
      "metadata": {
        "id": "view-in-github",
        "colab_type": "text"
      },
      "source": [
        "<a href=\"https://colab.research.google.com/github/Raniel-Ferreira/PY4E-Assignments/blob/main/Python_following_links.ipynb\" target=\"_parent\"><img src=\"https://colab.research.google.com/assets/colab-badge.svg\" alt=\"Open In Colab\"/></a>"
      ]
    },
    {
      "cell_type": "code",
      "metadata": {
        "colab": {
          "base_uri": "https://localhost:8080/"
        },
        "id": "SOAcDBoZGMTf",
        "outputId": "c6e0368b-c8f6-4d63-e322-2e998aba2c72"
      },
      "source": [
        "import urllib.request as ur\n",
        "from bs4 import *\n",
        "\n",
        "current_repeat_count = 0\n",
        "url = input('Enter URL: ')\n",
        "repeat_count = int(input('Enter count: '))\n",
        "position = int(input('Enter position: '))\n",
        "\n",
        "def parse_html(url):\n",
        "    html = ur.urlopen(url).read()\n",
        "    soup = BeautifulSoup(html, 'html.parser')\n",
        "    tags = soup('a')\n",
        "    return tags\n",
        "\n",
        "while current_repeat_count < repeat_count:\n",
        "    print('Retrieving: ', url)\n",
        "    tags = parse_html(url)\n",
        "    for index, item in enumerate(tags):\n",
        "        if index == position - 1:\n",
        "            url = item.get('href', None)\n",
        "            name = item.contents[0]\n",
        "            break\n",
        "        else:\n",
        "            continue\n",
        "    current_repeat_count += 1\n",
        "print('Last Url: ', url)"
      ],
      "execution_count": 1,
      "outputs": [
        {
          "output_type": "stream",
          "text": [
            "Enter URL: http://py4e-data.dr-chuck.net/known_by_Aaiva.html\n",
            "Enter count: 7\n",
            "Enter position: 18\n",
            "Retrieving:  http://py4e-data.dr-chuck.net/known_by_Aaiva.html\n",
            "Retrieving:  http://py4e-data.dr-chuck.net/known_by_Catlin.html\n",
            "Retrieving:  http://py4e-data.dr-chuck.net/known_by_Rhyon.html\n",
            "Retrieving:  http://py4e-data.dr-chuck.net/known_by_Rosina.html\n",
            "Retrieving:  http://py4e-data.dr-chuck.net/known_by_Erin.html\n",
            "Retrieving:  http://py4e-data.dr-chuck.net/known_by_Victoria.html\n",
            "Retrieving:  http://py4e-data.dr-chuck.net/known_by_Mirrin.html\n",
            "Last Url:  http://py4e-data.dr-chuck.net/known_by_Aurelia.html\n"
          ],
          "name": "stdout"
        }
      ]
    }
  ]
}