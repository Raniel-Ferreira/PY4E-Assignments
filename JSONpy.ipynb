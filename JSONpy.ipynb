{
  "nbformat": 4,
  "nbformat_minor": 0,
  "metadata": {
    "colab": {
      "name": "JSONpy",
      "provenance": [],
      "collapsed_sections": [],
      "authorship_tag": "ABX9TyNHnLMtdqF6CVW+5BUNA+w3",
      "include_colab_link": true
    },
    "kernelspec": {
      "name": "python3",
      "display_name": "Python 3"
    },
    "language_info": {
      "name": "python"
    }
  },
  "cells": [
    {
      "cell_type": "markdown",
      "metadata": {
        "id": "view-in-github",
        "colab_type": "text"
      },
      "source": [
        "<a href=\"https://colab.research.google.com/github/Raniel-Ferreira/PY4E-Assignments/blob/main/JSONpy.ipynb\" target=\"_parent\"><img src=\"https://colab.research.google.com/assets/colab-badge.svg\" alt=\"Open In Colab\"/></a>"
      ]
    },
    {
      "cell_type": "code",
      "metadata": {
        "colab": {
          "base_uri": "https://localhost:8080/"
        },
        "id": "5XA6Y9BxoSZA",
        "outputId": "e968e698-ee5b-4b83-8b65-a25ac607532e"
      },
      "source": [
        "import urllib.request, urllib.parse, urllib.error\n",
        "import json\n",
        "import ssl\n",
        "\n",
        "ctx = ssl.create_default_context()\n",
        "ctx.check_hostname = False\n",
        "ctx.verify_mode = ssl.CERT_NONE\n",
        "\n",
        "site = urllib.request.urlopen('http://py4e-data.dr-chuck.net/comments_1154478.json')\n",
        "data = site.read()\n",
        "\n",
        "info = json.loads(data)\n",
        "print('User count:', len(info))\n",
        "\n",
        "for item in info[\"comments\"]:\n",
        "\tprint (item[\"count\"])\n",
        "\tnumber = int(item[\"count\"])\n",
        "\tcount = count + number\n",
        "print (count)"
      ],
      "execution_count": 9,
      "outputs": [
        {
          "output_type": "stream",
          "text": [
            "User count: 2\n",
            "98\n",
            "95\n",
            "93\n",
            "92\n",
            "88\n",
            "86\n",
            "84\n",
            "84\n",
            "83\n",
            "83\n",
            "82\n",
            "71\n",
            "71\n",
            "68\n",
            "67\n",
            "66\n",
            "65\n",
            "64\n",
            "57\n",
            "54\n",
            "53\n",
            "49\n",
            "47\n",
            "46\n",
            "45\n",
            "44\n",
            "43\n",
            "39\n",
            "38\n",
            "36\n",
            "36\n",
            "35\n",
            "35\n",
            "34\n",
            "31\n",
            "27\n",
            "24\n",
            "23\n",
            "21\n",
            "20\n",
            "18\n",
            "18\n",
            "17\n",
            "16\n",
            "11\n",
            "9\n",
            "9\n",
            "7\n",
            "6\n",
            "3\n",
            "2391\n"
          ],
          "name": "stdout"
        }
      ]
    }
  ]
}