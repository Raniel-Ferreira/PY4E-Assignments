{
  "nbformat": 4,
  "nbformat_minor": 0,
  "metadata": {
    "colab": {
      "name": "ManyDB.ipynb",
      "provenance": [],
      "authorship_tag": "ABX9TyOCp7gLasF6/feq8hp2pYQc",
      "include_colab_link": true
    },
    "kernelspec": {
      "name": "python3",
      "display_name": "Python 3"
    },
    "language_info": {
      "name": "python"
    }
  },
  "cells": [
    {
      "cell_type": "markdown",
      "metadata": {
        "id": "view-in-github",
        "colab_type": "text"
      },
      "source": [
        "<a href=\"https://colab.research.google.com/github/Raniel-Ferreira/PY4E-Assignments/blob/main/ManyDB.ipynb\" target=\"_parent\"><img src=\"https://colab.research.google.com/assets/colab-badge.svg\" alt=\"Open In Colab\"/></a>"
      ]
    },
    {
      "cell_type": "code",
      "metadata": {
        "colab": {
          "base_uri": "https://localhost:8080/"
        },
        "id": "jGenyFL0d-1Q",
        "outputId": "7c54edf1-a243-4972-9130-163267c707a0"
      },
      "source": [
        "import json\n",
        "import sqlite3\n",
        "\n",
        "#PART 1: Creating the database\n",
        "dbname = \"roster.sqlite\"\n",
        "conn = sqlite3.connect(dbname)\n",
        "cur = conn.cursor()\n",
        "\n",
        "cur.executescript('''\n",
        "\tDROP TABLE IF EXISTS User;\n",
        "\tDROP TABLE IF EXISTS Course;\n",
        "\tDROP TABLE IF EXISTS Member;\n",
        "\tCREATE TABLE User (\n",
        "\t\tid INTEGER NOT NULL PRIMARY KEY AUTOINCREMENT UNIQUE,\n",
        "\t\tname TEXT UNIQUE \n",
        "\t);\n",
        "\tCREATE TABLE Course (\n",
        "\t\tid INTEGER NOT NULL PRIMARY KEY AUTOINCREMENT UNIQUE,\n",
        "\t\ttitle TEXT UNIQUE\n",
        "\t);\n",
        "\tCREATE TABLE Member (\n",
        "\t\tuser_id INTEGER,\n",
        "\t\tcourse_id INTEGER,\n",
        "\t\trole INTEGER,\n",
        "\t\tPRIMARY KEY(user_id, course_id)\n",
        "\t)\n",
        "''')\n",
        "#Note: if we don't add UNIQUE after \"User.name\" and \"Course.title\", \n",
        "#the IGNORE statement won't work and therefore we'll have duplicates\n",
        "\n",
        "#PART 2: DESERIALIZING THE data\n",
        "#The JSON data we're going to process is stored in an array form, with each\n",
        "#item being also an array of three elements: one corresponding to the username \n",
        "#one corresponding to the course name, and one indicating if the user is instructor\n",
        "#None of them has any field title. \n",
        "\n",
        "filename = \"roster_data.json\"\n",
        "jsondata = open(filename)\n",
        "data = json.load(jsondata)\n",
        "\n",
        "#PART 3: INSERTING DATA\n",
        "for entry in data:\n",
        "\tuser = entry[0]\n",
        "\tcourse = entry[1]\n",
        "\tinstructor = entry[2]\n",
        "\n",
        "\t#Inserting user\n",
        "\tuser_statement = \"\"\"INSERT OR IGNORE INTO User(name) VALUES( ? )\"\"\"\n",
        "\tSQLparams = (user, )\n",
        "\tcur.execute(user_statement, SQLparams)\n",
        "\n",
        "\t#Inserting course\n",
        "\tcourse_statement = \"\"\"INSERT OR IGNORE INTO Course(title) VALUES( ? )\"\"\"\n",
        "\tSQLparams = (course, )\n",
        "\tcur.execute(course_statement, SQLparams)\n",
        "\n",
        "\t#Getting user and course id\n",
        "\tcourseID_statement = \"\"\"SELECT id FROM Course WHERE title = ?\"\"\"\n",
        "\tSQLparams = (course, )\n",
        "\tcur.execute(courseID_statement, SQLparams)\n",
        "\tcourseID = cur.fetchone()[0]\n",
        "\n",
        "\tuserID_statement = \"\"\"SELECT id FROM User WHERE name = ?\"\"\"\n",
        "\tSQLparams = (user, )\n",
        "\tcur.execute(userID_statement, SQLparams)\n",
        "\tuserID = cur.fetchone()[0]\n",
        "\n",
        "\t#Inserting the entry\n",
        "\tmember_statement = \"\"\"INSERT INTO Member(user_id, course_id, role)\n",
        "\t\tVALUES(?, ?, ?)\"\"\"\n",
        "\tSQLparams = (userID, courseID, instructor)\n",
        "\tcur.execute(member_statement, SQLparams)\n",
        "\n",
        "#Saving the changes\n",
        "conn.commit()\n",
        "\n",
        "#PART 4: Testing and obtaining the results\n",
        "test_statement = \"\"\"\n",
        "SELECT hex(User.name || Course.title || Member.role ) AS X FROM \n",
        "    User JOIN Member JOIN Course \n",
        "    ON User.id = Member.user_id AND Member.course_id = Course.id\n",
        "    ORDER BY X\n",
        "\"\"\"\n",
        "cur.execute(test_statement)\n",
        "result = cur.fetchone()\n",
        "print(\"The first row in the resulting record set: \" + str(result))\n",
        "\n",
        "#Closing the connection\n",
        "cur.close()\n",
        "conn.close()\n",
        "\n",
        "#Don,t forget to write the letters given in the assignment before the result. Example: XYZZ41...."
      ],
      "execution_count": 12,
      "outputs": [
        {
          "output_type": "stream",
          "text": [
            "The first row in the resulting record set: ('414A736933303130',)\n"
          ],
          "name": "stdout"
        }
      ]
    }
  ]
}